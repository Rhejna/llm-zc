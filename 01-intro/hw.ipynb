{
 "cells": [
  {
   "cell_type": "code",
   "execution_count": 8,
   "id": "f39b7411-05f6-41e3-95a7-d02704ceb08d",
   "metadata": {},
   "outputs": [],
   "source": [
    "import openai\n",
    "from openai import OpenAI\n",
    "import os"
   ]
  },
  {
   "cell_type": "code",
   "execution_count": 7,
   "id": "12ff1460-edc2-49ab-a993-b6e1c83b8754",
   "metadata": {},
   "outputs": [],
   "source": [
    "client = OpenAI() #will read from the environment variable and search for OPENAI_API_KEY \n",
    "\n",
    "#Or\n",
    "#client = OpenAI(api_key='esrctvué123456789-éè_ç')"
   ]
  },
  {
   "cell_type": "code",
   "execution_count": 12,
   "id": "00f0ee41-8204-48ad-9b3f-3463a5bcc11a",
   "metadata": {},
   "outputs": [
    {
     "data": {
      "text/plain": [
       "\"It's never too late to say sorry. A sincere apology can help mend relationships and demonstrate that you value the other person's feelings. It's important to acknowledge what you did wrong, express genuine remorse, and show a willingness to make amends. Even if some time has passed, taking responsibility can still be meaningful.\""
      ]
     },
     "execution_count": 12,
     "metadata": {},
     "output_type": "execute_result"
    }
   ],
   "source": [
    "response = client.chat.completions.create(\n",
    "    model='gpt-4o', \n",
    "    messages=[{\"role\": \"user\", \"content\": \"is it too late to say sorry?\"}]\n",
    ")\n",
    "\n",
    "response.choices[0].message.content"
   ]
  },
  {
   "cell_type": "code",
   "execution_count": null,
   "id": "98a71c91-1b35-4f2d-aa50-293a24dd4a3a",
   "metadata": {},
   "outputs": [],
   "source": []
  }
 ],
 "metadata": {
  "kernelspec": {
   "display_name": "Python 3 (ipykernel)",
   "language": "python",
   "name": "python3"
  },
  "language_info": {
   "codemirror_mode": {
    "name": "ipython",
    "version": 3
   },
   "file_extension": ".py",
   "mimetype": "text/x-python",
   "name": "python",
   "nbconvert_exporter": "python",
   "pygments_lexer": "ipython3",
   "version": "3.12.1"
  }
 },
 "nbformat": 4,
 "nbformat_minor": 5
}
